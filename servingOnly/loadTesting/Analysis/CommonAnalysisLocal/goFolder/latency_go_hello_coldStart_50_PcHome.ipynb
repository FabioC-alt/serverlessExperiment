{
 "cells": [
  {
   "cell_type": "code",
   "execution_count": 1,
   "id": "1ce234c3-b8b2-4009-8a18-9b7c9dbc0181",
   "metadata": {},
   "outputs": [],
   "source": [
    "import pandas as pd\n",
    "import matplotlib.pyplot as plt"
   ]
  },
  {
   "cell_type": "code",
   "execution_count": 2,
   "id": "4fc64181-50fc-4d96-81fe-bf23f564f01a",
   "metadata": {},
   "outputs": [],
   "source": [
    "df = pd.read_csv('latency_go_hello_coldStart_50_PcHome.csv',sep=';',index_col=0)\n",
    "cols = df.columns"
   ]
  },
  {
   "cell_type": "code",
   "execution_count": 3,
   "id": "f9594bca-c64b-49e5-999b-264143cd030f",
   "metadata": {},
   "outputs": [
    {
     "data": {
      "text/html": [
       "<div>\n",
       "<style scoped>\n",
       "    .dataframe tbody tr th:only-of-type {\n",
       "        vertical-align: middle;\n",
       "    }\n",
       "\n",
       "    .dataframe tbody tr th {\n",
       "        vertical-align: top;\n",
       "    }\n",
       "\n",
       "    .dataframe thead th {\n",
       "        text-align: right;\n",
       "    }\n",
       "</style>\n",
       "<table border=\"1\" class=\"dataframe\">\n",
       "  <thead>\n",
       "    <tr style=\"text-align: right;\">\n",
       "      <th></th>\n",
       "      <th>latency_ns</th>\n",
       "      <th>latency_ms</th>\n",
       "      <th>Unnamed: 3</th>\n",
       "    </tr>\n",
       "    <tr>\n",
       "      <th>iteration</th>\n",
       "      <th></th>\n",
       "      <th></th>\n",
       "      <th></th>\n",
       "    </tr>\n",
       "  </thead>\n",
       "  <tbody>\n",
       "    <tr>\n",
       "      <th>1</th>\n",
       "      <td>1148288092</td>\n",
       "      <td>1148.288</td>\n",
       "      <td>NaN</td>\n",
       "    </tr>\n",
       "    <tr>\n",
       "      <th>2</th>\n",
       "      <td>1398639697</td>\n",
       "      <td>1398.640</td>\n",
       "      <td>NaN</td>\n",
       "    </tr>\n",
       "    <tr>\n",
       "      <th>3</th>\n",
       "      <td>1348272943</td>\n",
       "      <td>1348.273</td>\n",
       "      <td>NaN</td>\n",
       "    </tr>\n",
       "    <tr>\n",
       "      <th>4</th>\n",
       "      <td>1373916186</td>\n",
       "      <td>1373.916</td>\n",
       "      <td>NaN</td>\n",
       "    </tr>\n",
       "    <tr>\n",
       "      <th>5</th>\n",
       "      <td>1415981635</td>\n",
       "      <td>1415.982</td>\n",
       "      <td>NaN</td>\n",
       "    </tr>\n",
       "  </tbody>\n",
       "</table>\n",
       "</div>"
      ],
      "text/plain": [
       "            latency_ns   latency_ms  Unnamed: 3\n",
       "iteration                                      \n",
       "1           1148288092     1148.288         NaN\n",
       "2           1398639697     1398.640         NaN\n",
       "3           1348272943     1348.273         NaN\n",
       "4           1373916186     1373.916         NaN\n",
       "5           1415981635     1415.982         NaN"
      ]
     },
     "execution_count": 3,
     "metadata": {},
     "output_type": "execute_result"
    }
   ],
   "source": [
    "df.head()"
   ]
  },
  {
   "cell_type": "code",
   "execution_count": 4,
   "id": "c3f4846b-f32c-4a72-ac95-e509d30b4382",
   "metadata": {},
   "outputs": [],
   "source": [
    "df.drop(columns=['Unnamed: 3'], inplace=True)"
   ]
  },
  {
   "cell_type": "code",
   "execution_count": 5,
   "id": "b7f46c2a-f40b-44d6-8345-4670d476ccee",
   "metadata": {},
   "outputs": [
    {
     "data": {
      "text/html": [
       "<div>\n",
       "<style scoped>\n",
       "    .dataframe tbody tr th:only-of-type {\n",
       "        vertical-align: middle;\n",
       "    }\n",
       "\n",
       "    .dataframe tbody tr th {\n",
       "        vertical-align: top;\n",
       "    }\n",
       "\n",
       "    .dataframe thead th {\n",
       "        text-align: right;\n",
       "    }\n",
       "</style>\n",
       "<table border=\"1\" class=\"dataframe\">\n",
       "  <thead>\n",
       "    <tr style=\"text-align: right;\">\n",
       "      <th></th>\n",
       "      <th>latency_ns</th>\n",
       "      <th>latency_ms</th>\n",
       "    </tr>\n",
       "    <tr>\n",
       "      <th>iteration</th>\n",
       "      <th></th>\n",
       "      <th></th>\n",
       "    </tr>\n",
       "  </thead>\n",
       "  <tbody>\n",
       "    <tr>\n",
       "      <th>1</th>\n",
       "      <td>1148288092</td>\n",
       "      <td>1148.288</td>\n",
       "    </tr>\n",
       "    <tr>\n",
       "      <th>2</th>\n",
       "      <td>1398639697</td>\n",
       "      <td>1398.640</td>\n",
       "    </tr>\n",
       "    <tr>\n",
       "      <th>3</th>\n",
       "      <td>1348272943</td>\n",
       "      <td>1348.273</td>\n",
       "    </tr>\n",
       "    <tr>\n",
       "      <th>4</th>\n",
       "      <td>1373916186</td>\n",
       "      <td>1373.916</td>\n",
       "    </tr>\n",
       "    <tr>\n",
       "      <th>5</th>\n",
       "      <td>1415981635</td>\n",
       "      <td>1415.982</td>\n",
       "    </tr>\n",
       "  </tbody>\n",
       "</table>\n",
       "</div>"
      ],
      "text/plain": [
       "           latency_ns  latency_ms\n",
       "iteration                        \n",
       "1          1148288092    1148.288\n",
       "2          1398639697    1398.640\n",
       "3          1348272943    1348.273\n",
       "4          1373916186    1373.916\n",
       "5          1415981635    1415.982"
      ]
     },
     "execution_count": 5,
     "metadata": {},
     "output_type": "execute_result"
    }
   ],
   "source": [
    "df.head()"
   ]
  },
  {
   "cell_type": "code",
   "execution_count": 6,
   "id": "77a223f6-fade-4d59-a9a6-a7a2cafdcb3a",
   "metadata": {},
   "outputs": [
    {
     "name": "stdout",
     "output_type": "stream",
     "text": [
      "Median Value in ns: 1381034334.0\n",
      "Median Value in s: 1.381034334\n"
     ]
    }
   ],
   "source": [
    "median_values = df.median()\n",
    "print(f\"Median Value in ns: {median_values.iloc[0]}\")\n",
    "median_second = median_values.iloc[0]/1e9\n",
    "print(f\"Median Value in s: {median_second}\")"
   ]
  },
  {
   "cell_type": "code",
   "execution_count": 7,
   "id": "8d07a634-4975-4ee3-ab86-805218e5a3b5",
   "metadata": {},
   "outputs": [
    {
     "data": {
      "image/png": "[encoded data removed]",
      "text/plain": [
       "<Figure size 640x480 with 1 Axes>"
      ]
     },
     "metadata": {},
     "output_type": "display_data"
    }
   ],
   "source": [
    "df[' latency_ms'].plot(title='Latency in ms')\n",
    "plt.xlabel('Iteration')\n",
    "plt.ylabel('Latency (ms)')\n",
    "plt.grid(True)\n",
    "plt.show()\n"
   ]
  },
  {
   "cell_type": "code",
   "execution_count": null,
   "id": "171f692b-586d-437f-bd13-e77d3e4f86d7",
   "metadata": {},
   "outputs": [],
   "source": []
  }
 ],
 "metadata": {
  "kernelspec": {
   "display_name": "Python 3 (ipykernel)",
   "language": "python",
   "name": "python3"
  },
  "language_info": {
   "codemirror_mode": {
    "name": "ipython",
    "version": 3
   },
   "file_extension": ".py",
   "mimetype": "text/x-python",
   "name": "python",
   "nbconvert_exporter": "python",
   "pygments_lexer": "ipython3",
   "version": "3.13.3"
  }
 },
 "nbformat": 4,
 "nbformat_minor": 5
}
